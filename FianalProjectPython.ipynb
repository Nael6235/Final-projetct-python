{
 "cells": [
  {
   "cell_type": "code",
   "execution_count": 28,
   "metadata": {},
   "outputs": [
    {
     "name": "stdout",
     "output_type": "stream",
     "text": [
      "nom :  \n",
      "prenom :  \n",
      "numero de telephone :  \n",
      "date de création :  2023-01-26\n",
      "\n",
      "\n",
      "\n",
      "2023-01-26\n",
      "Liste [{'nom': '', 'prenom': '', 'numero': '', 'date': datetime.date(2023, 1, 26)}]\n"
     ]
    }
   ],
   "source": [
    "from datetime import date\n",
    "from datetime import datetime\n",
    "import pandas as pd\n",
    "\n",
    "contacts = []\n",
    "\n",
    "class Contact(object):\n",
    "    def __init__(self , nom , prenom , numero ,dates):\n",
    "        self.nom = nom\n",
    "        self.prenom = prenom\n",
    "        self.numero = numero\n",
    "        self.dates = datetime.today()\n",
    "        \n",
    "        self.updates_numero = None\n",
    "        self.delete_numero = None\n",
    "    \n",
    "    def afficher(self):\n",
    "        print(self.nom)\n",
    "        print(self.prenom)\n",
    "        print(self.numero)\n",
    "        print(self.dates)\n",
    "    \n",
    "    def create_contact(nom , prenom , numero ,dates):\n",
    "     nom = input(\"nom de l'utilisateur :\")\n",
    "     print(\"nom : \", nom)\n",
    "    \n",
    "     prenom = input(\"prenom de lutisateur :\" )\n",
    "     print(\"prenom : \", prenom)\n",
    "    \n",
    "     numero = input(\"veuillez ecrire votre numero de telephone : \")\n",
    "     print(\"numero de telephone : \", numero)\n",
    "    \n",
    "    \n",
    "     dates = date.today()\n",
    "     print(\"date de création : \",dates)\n",
    "     \n",
    "     dico_contact = {\n",
    "        \"nom\": nom,\n",
    "        \"prenom\": prenom,\n",
    "        \"numero\": numero,\n",
    "        \"date\": dates\n",
    "    }\n",
    "     return dico_contact\n",
    "    \n",
    "    \n",
    "    \n",
    "    def show_contact(contact):\n",
    "        \n",
    "        for values in contact.values():\n",
    "         print(values)\n",
    "    \n",
    "    \n",
    "\n",
    "   \n",
    "    contact = create_contact('nom','prenom','numero','dates')\n",
    "    show_contact(contact)\n",
    "    \n",
    "    contacts.append(contact)\n",
    "    print(\"Liste\",contacts)\n",
    "    \n",
    "    \n",
    "\n"
   ]
  }
 ],
 "metadata": {
  "kernelspec": {
   "display_name": "Python 3",
   "language": "python",
   "name": "python3"
  },
  "language_info": {
   "codemirror_mode": {
    "name": "ipython",
    "version": 3
   },
   "file_extension": ".py",
   "mimetype": "text/x-python",
   "name": "python",
   "nbconvert_exporter": "python",
   "pygments_lexer": "ipython3",
   "version": "3.11.1"
  },
  "orig_nbformat": 4,
  "vscode": {
   "interpreter": {
    "hash": "2474e9521ac95067d0962e0ce9b5d833e5bb24442c4f1df99d30c0884888b2ac"
   }
  }
 },
 "nbformat": 4,
 "nbformat_minor": 2
}
