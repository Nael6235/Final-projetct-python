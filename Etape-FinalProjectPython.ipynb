{
 "cells": [
  {
   "attachments": {},
   "cell_type": "markdown",
   "metadata": {},
   "source": [
    "# Contact Feature"
   ]
  },
  {
   "attachments": {},
   "cell_type": "markdown",
   "metadata": {},
   "source": [
    "This project consists to create, update and delete contacts from a phone "
   ]
  },
  {
   "attachments": {},
   "cell_type": "markdown",
   "metadata": {},
   "source": [
    "Imported libraries"
   ]
  },
  {
   "cell_type": "code",
   "execution_count": 7,
   "metadata": {},
   "outputs": [],
   "source": [
    "from datetime import date\n",
    "from datetime import datetime\n",
    "import pandas as pd\n"
   ]
  },
  {
   "attachments": {},
   "cell_type": "markdown",
   "metadata": {},
   "source": [
    "CLASS"
   ]
  },
  {
   "cell_type": "code",
   "execution_count": 8,
   "metadata": {},
   "outputs": [],
   "source": [
    "from datetime import datetime\n",
    "\n",
    "class Contact(object):\n",
    "    def __init__(self , nom , prenom , numero ,dates):\n",
    "        self.nom = nom\n",
    "        self.prenom = prenom\n",
    "        self.numero = numero\n",
    "        self.dates = datetime.today()\n",
    "        \n",
    "        self.updates_numero = None\n",
    "        self.delete_numero = None\n",
    "    \n",
    "    def afficher(self):\n",
    "        print(self.nom)\n",
    "        print(self.prenom)\n",
    "        print(self.numero)\n",
    "        print(self.dates)    \n",
    "\n",
    "\n"
   ]
  },
  {
   "attachments": {},
   "cell_type": "markdown",
   "metadata": {},
   "source": [
    "CREATE"
   ]
  },
  {
   "cell_type": "code",
   "execution_count": 30,
   "metadata": {},
   "outputs": [
    {
     "name": "stdout",
     "output_type": "stream",
     "text": [
      "nom :  g\n",
      "prenom :  g\n",
      "numero de telephone :  g\n",
      "date de création :  2023-01-26\n",
      "g\n",
      "g\n",
      "g\n",
      "2023-01-26\n"
     ]
    }
   ],
   "source": [
    "    def create_contact(nom , prenom , numero ,dates):\n",
    "     nom = input(\"nom de l'utilisateur :\")\n",
    "     print(\"nom : \", nom)\n",
    "    \n",
    "     prenom = input(\"prenom de lutisateur :\" )\n",
    "     print(\"prenom : \", prenom)\n",
    "    \n",
    "     numero = input(\"veuillez ecrire votre numero de telephone : \")\n",
    "     print(\"numero de telephone : \", numero)\n",
    "    \n",
    "    \n",
    "     dates = date.today()\n",
    "     print(\"date de création : \",dates)\n",
    "     \n",
    "     dico_contact = {\n",
    "        \"nom\": nom,\n",
    "        \"prenom\": prenom,\n",
    "        \"numero\": numero,\n",
    "        \"date\": dates\n",
    "    }\n",
    "     return dico_contact\n",
    "    \n",
    "    \n",
    "    \n",
    "    def show_contact(contact):\n",
    "        \n",
    "        for values in contact.values():\n",
    "         print(values)\n",
    "    \n",
    "    \n",
    "\n",
    "   \n",
    "    contact = create_contact('nom','prenom','numero','dates')\n",
    "    show_contact(contact)"
   ]
  },
  {
   "attachments": {},
   "cell_type": "markdown",
   "metadata": {},
   "source": [
    "UPDATE"
   ]
  },
  {
   "cell_type": "code",
   "execution_count": 20,
   "metadata": {},
   "outputs": [],
   "source": [
    "def up(self , nouveau_numero ):\n",
    "    self.numero = nouveau_numero\n",
    "    self.update_numero = datetime.today().date()\n",
    "\n",
    "utulisateur = Contact('nom' , 'prenom' , 'numero' ,'dates')\n",
    "print(utulisateur) \n",
    "\n",
    "utulisateur.numero  \n",
    "utulisateur.up(\"0678945678\")\n",
    "utulisateur.show_contact()"
   ]
  },
  {
   "attachments": {},
   "cell_type": "markdown",
   "metadata": {},
   "source": [
    "BONUS : DELETE"
   ]
  },
  {
   "cell_type": "code",
   "execution_count": 6,
   "metadata": {},
   "outputs": [],
   "source": [
    "def delete(self , suprimmer_numero):\n",
    "    self.numero = suprimmer_numero\n",
    "    self.delete_numero = datetime.today()"
   ]
  }
 ],
 "metadata": {
  "kernelspec": {
   "display_name": "Python 3",
   "language": "python",
   "name": "python3"
  },
  "language_info": {
   "codemirror_mode": {
    "name": "ipython",
    "version": 3
   },
   "file_extension": ".py",
   "mimetype": "text/x-python",
   "name": "python",
   "nbconvert_exporter": "python",
   "pygments_lexer": "ipython3",
   "version": "3.11.1"
  },
  "orig_nbformat": 4,
  "vscode": {
   "interpreter": {
    "hash": "2474e9521ac95067d0962e0ce9b5d833e5bb24442c4f1df99d30c0884888b2ac"
   }
  }
 },
 "nbformat": 4,
 "nbformat_minor": 2
}
